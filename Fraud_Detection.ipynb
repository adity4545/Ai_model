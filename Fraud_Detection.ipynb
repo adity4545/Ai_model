{
 "cells": [
  {
   "cell_type": "code",
   "execution_count": null,
   "id": "397f2e1c-f835-45ef-84f3-1381c5e686fc",
   "metadata": {},
   "outputs": [],
   "source": [
    "import pandas as pd\n",
    "from sklearn.ensemble import RandomForestClassifier\n",
    "from sklearn.model_selection import train_test_split\n",
    "from sklearn.metrics import accuracy_score, classification_report, confusion_matrix\n",
    "from sklearn.preprocessing import LabelEncoder\n",
    "\n",
    "# Load the dataset\n",
    "df = pd.read_csv('my_fraud_dataset.csv')\n",
    "\n",
    "# Preprocess the data\n",
    "X = df.drop('fraud', axis=1)\n",
    "y = df['fraud']\n",
    "\n",
    "# Extract year, month, and day of week from transaction_time\n",
    "X['year'] = pd.to_datetime(X['transaction_time']).dt.year\n",
    "X['month'] = pd.to_datetime(X['transaction_time']).dt.month\n",
    "X['day_of_week'] = pd.to_datetime(X['transaction_time']).dt.weekday\n",
    "\n",
    "# Drop the original transaction_time column (optional)\n",
    "X = X.drop('transaction_time', axis=1)\n",
    "\n",
    "# Convert categorical features to numerical values\n",
    "encoder = LabelEncoder()\n",
    "X['device_type'] = encoder.fit_transform(X['device_type'])\n",
    "\n",
    "# Split the data into training and test sets\n",
    "X_train, X_test, y_train, y_test = train_test_split(X, y, test_size=0.2, random_state=42)\n",
    "\n",
    "# Initialize the Random Forest Classifier\n",
    "clf = RandomForestClassifier(n_estimators=100, random_state=42)\n",
    "\n",
    "# Train the model\n",
    "clf.fit(X_train, y_train)\n",
    "\n",
    "# Make predictions\n",
    "y_pred = clf.predict(X_test)\n",
    "\n",
    "# Evaluate the model\n",
    "print(\"Accuracy:\", accuracy_score(y_test, y_pred))\n",
    "print(\"\\nClassification Report:\\n\", classification_report(y_test, y_pred))\n",
    "print(\"\\nConfusion Matrix:\\n\", confusion_matrix(y_test, y_pred))"
   ]
  }
 ],
 "metadata": {
  "kernelspec": {
   "display_name": "Python 3 (ipykernel)",
   "language": "python",
   "name": "python3"
  },
  "language_info": {
   "codemirror_mode": {
    "name": "ipython",
    "version": 3
   },
   "file_extension": ".py",
   "mimetype": "text/x-python",
   "name": "python",
   "nbconvert_exporter": "python",
   "pygments_lexer": "ipython3",
   "version": "3.11.7"
  }
 },
 "nbformat": 4,
 "nbformat_minor": 5
}
